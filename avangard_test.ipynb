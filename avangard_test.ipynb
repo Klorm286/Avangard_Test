{
 "cells": [
  {
   "cell_type": "markdown",
   "id": "cb975899-8463-487a-a164-392440c49e48",
   "metadata": {},
   "source": [
    "# Тестовое задание на позицию \"Аналитик данных\" в ООО \"Авангард\""
   ]
  },
  {
   "cell_type": "markdown",
   "id": "b2032861-332f-4aa8-ad42-93a27367caac",
   "metadata": {},
   "source": [
    "## Загрузка данных"
   ]
  },
  {
   "cell_type": "code",
   "execution_count": 62,
   "id": "7176d597-f017-492d-9ffa-68a97125a122",
   "metadata": {},
   "outputs": [
    {
     "data": {
      "text/html": [
       "<div>\n",
       "<style scoped>\n",
       "    .dataframe tbody tr th:only-of-type {\n",
       "        vertical-align: middle;\n",
       "    }\n",
       "\n",
       "    .dataframe tbody tr th {\n",
       "        vertical-align: top;\n",
       "    }\n",
       "\n",
       "    .dataframe thead th {\n",
       "        text-align: right;\n",
       "    }\n",
       "</style>\n",
       "<table border=\"1\" class=\"dataframe\">\n",
       "  <thead>\n",
       "    <tr style=\"text-align: right;\">\n",
       "      <th></th>\n",
       "      <th>ID</th>\n",
       "      <th>Order Date</th>\n",
       "      <th>Class</th>\n",
       "      <th>Region</th>\n",
       "      <th>Sub-Category</th>\n",
       "      <th>Sales</th>\n",
       "    </tr>\n",
       "  </thead>\n",
       "  <tbody>\n",
       "    <tr>\n",
       "      <th>0</th>\n",
       "      <td>646</td>\n",
       "      <td>30/12/2018</td>\n",
       "      <td>Стандарт</td>\n",
       "      <td>Урал</td>\n",
       "      <td>Appliances</td>\n",
       "      <td>37229,08</td>\n",
       "    </tr>\n",
       "    <tr>\n",
       "      <th>1</th>\n",
       "      <td>907</td>\n",
       "      <td>30/12/2018</td>\n",
       "      <td>Стандарт</td>\n",
       "      <td>Владивосток</td>\n",
       "      <td>Bookcases</td>\n",
       "      <td>20994,61</td>\n",
       "    </tr>\n",
       "    <tr>\n",
       "      <th>2</th>\n",
       "      <td>908</td>\n",
       "      <td>30/12/2018</td>\n",
       "      <td>Стандарт</td>\n",
       "      <td>Владивосток</td>\n",
       "      <td>Phones</td>\n",
       "      <td>42133,86</td>\n",
       "    </tr>\n",
       "    <tr>\n",
       "      <th>3</th>\n",
       "      <td>909</td>\n",
       "      <td>30/12/2018</td>\n",
       "      <td>Стандарт</td>\n",
       "      <td>Владивосток</td>\n",
       "      <td>Binders</td>\n",
       "      <td>10612</td>\n",
       "    </tr>\n",
       "    <tr>\n",
       "      <th>4</th>\n",
       "      <td>1297</td>\n",
       "      <td>30/12/2018</td>\n",
       "      <td>Стандарт</td>\n",
       "      <td>Калиниград</td>\n",
       "      <td>Binders</td>\n",
       "      <td>28781,13</td>\n",
       "    </tr>\n",
       "    <tr>\n",
       "      <th>...</th>\n",
       "      <td>...</td>\n",
       "      <td>...</td>\n",
       "      <td>...</td>\n",
       "      <td>...</td>\n",
       "      <td>...</td>\n",
       "      <td>...</td>\n",
       "    </tr>\n",
       "    <tr>\n",
       "      <th>9795</th>\n",
       "      <td>1760</td>\n",
       "      <td>05/01/2015</td>\n",
       "      <td>Стандарт</td>\n",
       "      <td>Владивосток</td>\n",
       "      <td>Art</td>\n",
       "      <td>8639,472</td>\n",
       "    </tr>\n",
       "    <tr>\n",
       "      <th>9796</th>\n",
       "      <td>740</td>\n",
       "      <td>04/01/2015</td>\n",
       "      <td>Стандарт</td>\n",
       "      <td>Урал</td>\n",
       "      <td>Labels</td>\n",
       "      <td>15246,05</td>\n",
       "    </tr>\n",
       "    <tr>\n",
       "      <th>9797</th>\n",
       "      <td>741</td>\n",
       "      <td>04/01/2015</td>\n",
       "      <td>Стандарт</td>\n",
       "      <td>Урал</td>\n",
       "      <td>Storage</td>\n",
       "      <td>20415,81</td>\n",
       "    </tr>\n",
       "    <tr>\n",
       "      <th>9798</th>\n",
       "      <td>742</td>\n",
       "      <td>04/01/2015</td>\n",
       "      <td>Стандарт</td>\n",
       "      <td>Урал</td>\n",
       "      <td>Binders</td>\n",
       "      <td>4559,085</td>\n",
       "    </tr>\n",
       "    <tr>\n",
       "      <th>9799</th>\n",
       "      <td>7981</td>\n",
       "      <td>03/01/2015</td>\n",
       "      <td>Стандарт</td>\n",
       "      <td>Урал</td>\n",
       "      <td>Paper</td>\n",
       "      <td>11726,47</td>\n",
       "    </tr>\n",
       "  </tbody>\n",
       "</table>\n",
       "<p>9800 rows × 6 columns</p>\n",
       "</div>"
      ],
      "text/plain": [
       "        ID  Order Date     Class       Region Sub-Category     Sales\n",
       "0      646  30/12/2018  Стандарт         Урал   Appliances  37229,08\n",
       "1      907  30/12/2018  Стандарт  Владивосток    Bookcases  20994,61\n",
       "2      908  30/12/2018  Стандарт  Владивосток       Phones  42133,86\n",
       "3      909  30/12/2018  Стандарт  Владивосток      Binders     10612\n",
       "4     1297  30/12/2018  Стандарт   Калиниград      Binders  28781,13\n",
       "...    ...         ...       ...          ...          ...       ...\n",
       "9795  1760  05/01/2015  Стандарт  Владивосток          Art  8639,472\n",
       "9796   740  04/01/2015  Стандарт         Урал       Labels  15246,05\n",
       "9797   741  04/01/2015  Стандарт         Урал      Storage  20415,81\n",
       "9798   742  04/01/2015  Стандарт         Урал      Binders  4559,085\n",
       "9799  7981  03/01/2015  Стандарт         Урал        Paper  11726,47\n",
       "\n",
       "[9800 rows x 6 columns]"
      ]
     },
     "execution_count": 62,
     "metadata": {},
     "output_type": "execute_result"
    }
   ],
   "source": [
    "import pandas as pd\n",
    "import matplotlib.pyplot as plt\n",
    "\n",
    "file_path = r'C:\\Users\\Lenovo\\Downloads\\train - train.csv'\n",
    "df = pd.read_csv(file_path)\n",
    "df"
   ]
  },
  {
   "cell_type": "markdown",
   "id": "d7e8f0f9-8c27-4dac-bc8b-864f04c67779",
   "metadata": {},
   "source": [
    "## Задание 1а"
   ]
  },
  {
   "cell_type": "markdown",
   "id": "4f92337a-0849-4476-a6f3-e8077368faff",
   "metadata": {},
   "source": [
    "**Группировка по \"Sub-Category\" и подсчет количества покупок**"
   ]
  },
  {
   "cell_type": "code",
   "execution_count": 13,
   "id": "aa72529e-79cf-4b72-b302-457f8bd90774",
   "metadata": {},
   "outputs": [
    {
     "data": {
      "text/plain": [
       "Sub-Category\n",
       "Accessories     756\n",
       "Appliances      459\n",
       "Art             785\n",
       "Binders        1492\n",
       "Bookcases       226\n",
       "Chairs          607\n",
       "Copiers          66\n",
       "Envelopes       248\n",
       "Fasteners       214\n",
       "Furnishings     931\n",
       "Labels          357\n",
       "Machines        115\n",
       "Paper          1338\n",
       "Phones          876\n",
       "Storage         832\n",
       "Supplies        184\n",
       "Tables          314\n",
       "dtype: int64"
      ]
     },
     "execution_count": 13,
     "metadata": {},
     "output_type": "execute_result"
    }
   ],
   "source": [
    "purchases_count = df.groupby('Sub-Category').size()\n",
    "purchases_count"
   ]
  },
  {
   "cell_type": "markdown",
   "id": "76bda5f7-adb9-4536-9580-11e5ea8f1711",
   "metadata": {},
   "source": [
    "**Получение топ 4 подгрупп с наибольшим количеством покупок**"
   ]
  },
  {
   "cell_type": "code",
   "execution_count": 14,
   "id": "8c56de32-c036-41fe-bf35-e2611f01be06",
   "metadata": {},
   "outputs": [
    {
     "data": {
      "text/plain": [
       "Sub-Category\n",
       "Binders        1492\n",
       "Paper          1338\n",
       "Furnishings     931\n",
       "Phones          876\n",
       "dtype: int64"
      ]
     },
     "execution_count": 14,
     "metadata": {},
     "output_type": "execute_result"
    }
   ],
   "source": [
    "top_4_subcategories = purchases_count.nlargest(4)\n",
    "top_4_subcategories"
   ]
  },
  {
   "cell_type": "markdown",
   "id": "669b3868-32ea-4dea-b421-7163cfc75ccf",
   "metadata": {},
   "source": [
    "**Визуализация с помощью гистограммы**"
   ]
  },
  {
   "cell_type": "code",
   "execution_count": 12,
   "id": "d5761e68-66ac-44a3-aa1b-1d12e0d29b82",
   "metadata": {},
   "outputs": [
    {
     "data": {
      "image/png": "[encoded data removed]",
      "text/plain": [
       "<Figure size 1000x600 with 1 Axes>"
      ]
     },
     "metadata": {},
     "output_type": "display_data"
    }
   ],
   "source": [
    "plt.figure(figsize=(10, 6))\n",
    "plt.bar(top_4_subcategories.index, top_4_subcategories.values)\n",
    "plt.xlabel('Sub-Category')\n",
    "plt.ylabel('Количество покупок')\n",
    "plt.title('Топ 4 подгрупп товаров с наибольшим количеством покупок')\n",
    "plt.xticks(rotation=45, ha='right')\n",
    "plt.tight_layout()\n",
    "plt.show()"
   ]
  },
  {
   "cell_type": "markdown",
   "id": "6d59ffd4-1497-4726-ae77-0451254ab103",
   "metadata": {},
   "source": [
    "## Задание 1б"
   ]
  },
  {
   "cell_type": "markdown",
   "id": "56f063aa-350f-48bf-befd-0e2e38e70aeb",
   "metadata": {},
   "source": [
    "**Преобразуем столбец 'Order Date' в формат даты**"
   ]
  },
  {
   "cell_type": "code",
   "execution_count": 20,
   "id": "112c9485-6f54-4379-b3e9-385ddf09dda1",
   "metadata": {},
   "outputs": [
    {
     "data": {
      "text/html": [
       "<div>\n",
       "<style scoped>\n",
       "    .dataframe tbody tr th:only-of-type {\n",
       "        vertical-align: middle;\n",
       "    }\n",
       "\n",
       "    .dataframe tbody tr th {\n",
       "        vertical-align: top;\n",
       "    }\n",
       "\n",
       "    .dataframe thead th {\n",
       "        text-align: right;\n",
       "    }\n",
       "</style>\n",
       "<table border=\"1\" class=\"dataframe\">\n",
       "  <thead>\n",
       "    <tr style=\"text-align: right;\">\n",
       "      <th></th>\n",
       "      <th>ID</th>\n",
       "      <th>Order Date</th>\n",
       "      <th>Class</th>\n",
       "      <th>Region</th>\n",
       "      <th>Sub-Category</th>\n",
       "      <th>Sales</th>\n",
       "    </tr>\n",
       "  </thead>\n",
       "  <tbody>\n",
       "    <tr>\n",
       "      <th>0</th>\n",
       "      <td>646</td>\n",
       "      <td>2018-12-30</td>\n",
       "      <td>Стандарт</td>\n",
       "      <td>Урал</td>\n",
       "      <td>Appliances</td>\n",
       "      <td>37229,08</td>\n",
       "    </tr>\n",
       "    <tr>\n",
       "      <th>1</th>\n",
       "      <td>907</td>\n",
       "      <td>2018-12-30</td>\n",
       "      <td>Стандарт</td>\n",
       "      <td>Владивосток</td>\n",
       "      <td>Bookcases</td>\n",
       "      <td>20994,61</td>\n",
       "    </tr>\n",
       "    <tr>\n",
       "      <th>2</th>\n",
       "      <td>908</td>\n",
       "      <td>2018-12-30</td>\n",
       "      <td>Стандарт</td>\n",
       "      <td>Владивосток</td>\n",
       "      <td>Phones</td>\n",
       "      <td>42133,86</td>\n",
       "    </tr>\n",
       "    <tr>\n",
       "      <th>3</th>\n",
       "      <td>909</td>\n",
       "      <td>2018-12-30</td>\n",
       "      <td>Стандарт</td>\n",
       "      <td>Владивосток</td>\n",
       "      <td>Binders</td>\n",
       "      <td>10612</td>\n",
       "    </tr>\n",
       "    <tr>\n",
       "      <th>4</th>\n",
       "      <td>1297</td>\n",
       "      <td>2018-12-30</td>\n",
       "      <td>Стандарт</td>\n",
       "      <td>Калиниград</td>\n",
       "      <td>Binders</td>\n",
       "      <td>28781,13</td>\n",
       "    </tr>\n",
       "    <tr>\n",
       "      <th>...</th>\n",
       "      <td>...</td>\n",
       "      <td>...</td>\n",
       "      <td>...</td>\n",
       "      <td>...</td>\n",
       "      <td>...</td>\n",
       "      <td>...</td>\n",
       "    </tr>\n",
       "    <tr>\n",
       "      <th>9795</th>\n",
       "      <td>1760</td>\n",
       "      <td>2015-01-05</td>\n",
       "      <td>Стандарт</td>\n",
       "      <td>Владивосток</td>\n",
       "      <td>Art</td>\n",
       "      <td>8639,472</td>\n",
       "    </tr>\n",
       "    <tr>\n",
       "      <th>9796</th>\n",
       "      <td>740</td>\n",
       "      <td>2015-01-04</td>\n",
       "      <td>Стандарт</td>\n",
       "      <td>Урал</td>\n",
       "      <td>Labels</td>\n",
       "      <td>15246,05</td>\n",
       "    </tr>\n",
       "    <tr>\n",
       "      <th>9797</th>\n",
       "      <td>741</td>\n",
       "      <td>2015-01-04</td>\n",
       "      <td>Стандарт</td>\n",
       "      <td>Урал</td>\n",
       "      <td>Storage</td>\n",
       "      <td>20415,81</td>\n",
       "    </tr>\n",
       "    <tr>\n",
       "      <th>9798</th>\n",
       "      <td>742</td>\n",
       "      <td>2015-01-04</td>\n",
       "      <td>Стандарт</td>\n",
       "      <td>Урал</td>\n",
       "      <td>Binders</td>\n",
       "      <td>4559,085</td>\n",
       "    </tr>\n",
       "    <tr>\n",
       "      <th>9799</th>\n",
       "      <td>7981</td>\n",
       "      <td>2015-01-03</td>\n",
       "      <td>Стандарт</td>\n",
       "      <td>Урал</td>\n",
       "      <td>Paper</td>\n",
       "      <td>11726,47</td>\n",
       "    </tr>\n",
       "  </tbody>\n",
       "</table>\n",
       "<p>9800 rows × 6 columns</p>\n",
       "</div>"
      ],
      "text/plain": [
       "        ID Order Date     Class       Region Sub-Category     Sales\n",
       "0      646 2018-12-30  Стандарт         Урал   Appliances  37229,08\n",
       "1      907 2018-12-30  Стандарт  Владивосток    Bookcases  20994,61\n",
       "2      908 2018-12-30  Стандарт  Владивосток       Phones  42133,86\n",
       "3      909 2018-12-30  Стандарт  Владивосток      Binders     10612\n",
       "4     1297 2018-12-30  Стандарт   Калиниград      Binders  28781,13\n",
       "...    ...        ...       ...          ...          ...       ...\n",
       "9795  1760 2015-01-05  Стандарт  Владивосток          Art  8639,472\n",
       "9796   740 2015-01-04  Стандарт         Урал       Labels  15246,05\n",
       "9797   741 2015-01-04  Стандарт         Урал      Storage  20415,81\n",
       "9798   742 2015-01-04  Стандарт         Урал      Binders  4559,085\n",
       "9799  7981 2015-01-03  Стандарт         Урал        Paper  11726,47\n",
       "\n",
       "[9800 rows x 6 columns]"
      ]
     },
     "execution_count": 20,
     "metadata": {},
     "output_type": "execute_result"
    }
   ],
   "source": [
    "df['Order Date'] = pd.to_datetime(df['Order Date'], format='%d/%m/%Y')\n",
    "df"
   ]
  },
  {
   "cell_type": "markdown",
   "id": "9f4a5c6d-6bb4-41ec-bc5c-359e40d19073",
   "metadata": {},
   "source": [
    "**Фильтруем данные по дате, оставив только покупки за последние два года**"
   ]
  },
  {
   "cell_type": "code",
   "execution_count": 21,
   "id": "20bdceac-d069-4a5f-9350-9f97a8d9c89f",
   "metadata": {},
   "outputs": [
    {
     "data": {
      "text/html": [
       "<div>\n",
       "<style scoped>\n",
       "    .dataframe tbody tr th:only-of-type {\n",
       "        vertical-align: middle;\n",
       "    }\n",
       "\n",
       "    .dataframe tbody tr th {\n",
       "        vertical-align: top;\n",
       "    }\n",
       "\n",
       "    .dataframe thead th {\n",
       "        text-align: right;\n",
       "    }\n",
       "</style>\n",
       "<table border=\"1\" class=\"dataframe\">\n",
       "  <thead>\n",
       "    <tr style=\"text-align: right;\">\n",
       "      <th></th>\n",
       "      <th>ID</th>\n",
       "      <th>Order Date</th>\n",
       "      <th>Class</th>\n",
       "      <th>Region</th>\n",
       "      <th>Sub-Category</th>\n",
       "      <th>Sales</th>\n",
       "    </tr>\n",
       "  </thead>\n",
       "  <tbody>\n",
       "    <tr>\n",
       "      <th>0</th>\n",
       "      <td>646</td>\n",
       "      <td>2018-12-30</td>\n",
       "      <td>Стандарт</td>\n",
       "      <td>Урал</td>\n",
       "      <td>Appliances</td>\n",
       "      <td>37229,08</td>\n",
       "    </tr>\n",
       "    <tr>\n",
       "      <th>1</th>\n",
       "      <td>907</td>\n",
       "      <td>2018-12-30</td>\n",
       "      <td>Стандарт</td>\n",
       "      <td>Владивосток</td>\n",
       "      <td>Bookcases</td>\n",
       "      <td>20994,61</td>\n",
       "    </tr>\n",
       "    <tr>\n",
       "      <th>2</th>\n",
       "      <td>908</td>\n",
       "      <td>2018-12-30</td>\n",
       "      <td>Стандарт</td>\n",
       "      <td>Владивосток</td>\n",
       "      <td>Phones</td>\n",
       "      <td>42133,86</td>\n",
       "    </tr>\n",
       "    <tr>\n",
       "      <th>3</th>\n",
       "      <td>909</td>\n",
       "      <td>2018-12-30</td>\n",
       "      <td>Стандарт</td>\n",
       "      <td>Владивосток</td>\n",
       "      <td>Binders</td>\n",
       "      <td>10612</td>\n",
       "    </tr>\n",
       "    <tr>\n",
       "      <th>4</th>\n",
       "      <td>1297</td>\n",
       "      <td>2018-12-30</td>\n",
       "      <td>Стандарт</td>\n",
       "      <td>Калиниград</td>\n",
       "      <td>Binders</td>\n",
       "      <td>28781,13</td>\n",
       "    </tr>\n",
       "    <tr>\n",
       "      <th>...</th>\n",
       "      <td>...</td>\n",
       "      <td>...</td>\n",
       "      <td>...</td>\n",
       "      <td>...</td>\n",
       "      <td>...</td>\n",
       "      <td>...</td>\n",
       "    </tr>\n",
       "    <tr>\n",
       "      <th>5803</th>\n",
       "      <td>6009</td>\n",
       "      <td>2016-12-30</td>\n",
       "      <td>Стандарт</td>\n",
       "      <td>Калиниград</td>\n",
       "      <td>Paper</td>\n",
       "      <td>27642,19</td>\n",
       "    </tr>\n",
       "    <tr>\n",
       "      <th>5804</th>\n",
       "      <td>6010</td>\n",
       "      <td>2016-12-30</td>\n",
       "      <td>Стандарт</td>\n",
       "      <td>Калиниград</td>\n",
       "      <td>Storage</td>\n",
       "      <td>30587,93</td>\n",
       "    </tr>\n",
       "    <tr>\n",
       "      <th>5805</th>\n",
       "      <td>6011</td>\n",
       "      <td>2016-12-30</td>\n",
       "      <td>Стандарт</td>\n",
       "      <td>Калиниград</td>\n",
       "      <td>Machines</td>\n",
       "      <td>25846,45</td>\n",
       "    </tr>\n",
       "    <tr>\n",
       "      <th>5806</th>\n",
       "      <td>6012</td>\n",
       "      <td>2016-12-30</td>\n",
       "      <td>Стандарт</td>\n",
       "      <td>Калиниград</td>\n",
       "      <td>Envelopes</td>\n",
       "      <td>22003,24</td>\n",
       "    </tr>\n",
       "    <tr>\n",
       "      <th>5807</th>\n",
       "      <td>6013</td>\n",
       "      <td>2016-12-30</td>\n",
       "      <td>Стандарт</td>\n",
       "      <td>Калиниград</td>\n",
       "      <td>Phones</td>\n",
       "      <td>4813,189</td>\n",
       "    </tr>\n",
       "  </tbody>\n",
       "</table>\n",
       "<p>5808 rows × 6 columns</p>\n",
       "</div>"
      ],
      "text/plain": [
       "        ID Order Date     Class       Region Sub-Category     Sales\n",
       "0      646 2018-12-30  Стандарт         Урал   Appliances  37229,08\n",
       "1      907 2018-12-30  Стандарт  Владивосток    Bookcases  20994,61\n",
       "2      908 2018-12-30  Стандарт  Владивосток       Phones  42133,86\n",
       "3      909 2018-12-30  Стандарт  Владивосток      Binders     10612\n",
       "4     1297 2018-12-30  Стандарт   Калиниград      Binders  28781,13\n",
       "...    ...        ...       ...          ...          ...       ...\n",
       "5803  6009 2016-12-30  Стандарт   Калиниград        Paper  27642,19\n",
       "5804  6010 2016-12-30  Стандарт   Калиниград      Storage  30587,93\n",
       "5805  6011 2016-12-30  Стандарт   Калиниград     Machines  25846,45\n",
       "5806  6012 2016-12-30  Стандарт   Калиниград    Envelopes  22003,24\n",
       "5807  6013 2016-12-30  Стандарт   Калиниград       Phones  4813,189\n",
       "\n",
       "[5808 rows x 6 columns]"
      ]
     },
     "execution_count": 21,
     "metadata": {},
     "output_type": "execute_result"
    }
   ],
   "source": [
    "max_date = df['Order Date'].max()\n",
    "df = df[df['Order Date'] >= max_date - pd.DateOffset(years=2)]\n",
    "df"
   ]
  },
  {
   "cell_type": "markdown",
   "id": "baaf732f-ce83-4f37-a41e-14a89fca2466",
   "metadata": {},
   "source": [
    "**Группировка по 'Sub-Category' и подсчет количества покупок**"
   ]
  },
  {
   "cell_type": "code",
   "execution_count": 22,
   "id": "818196b8-19e2-4ce0-b2ae-6f60760487f9",
   "metadata": {},
   "outputs": [
    {
     "data": {
      "text/plain": [
       "Sub-Category\n",
       "Accessories    450\n",
       "Appliances     274\n",
       "Art            458\n",
       "Binders        907\n",
       "Bookcases      130\n",
       "Chairs         348\n",
       "Copiers         36\n",
       "Envelopes      131\n",
       "Fasteners      122\n",
       "Furnishings    558\n",
       "Labels         208\n",
       "Machines        66\n",
       "Paper          810\n",
       "Phones         511\n",
       "Storage        492\n",
       "Supplies       118\n",
       "Tables         189\n",
       "dtype: int64"
      ]
     },
     "execution_count": 22,
     "metadata": {},
     "output_type": "execute_result"
    }
   ],
   "source": [
    "purchase_counts = df.groupby('Sub-Category').size()\n",
    "purchase_counts"
   ]
  },
  {
   "cell_type": "markdown",
   "id": "daa9f6c8-ff12-4351-a27a-c14900a17036",
   "metadata": {},
   "source": [
    "**Выбираем топ 4 подгрупп товаров с наибольшим количеством покупок**"
   ]
  },
  {
   "cell_type": "code",
   "execution_count": 23,
   "id": "5aae4987-0843-48bd-b191-f883dd8dace2",
   "metadata": {},
   "outputs": [
    {
     "data": {
      "text/plain": [
       "Sub-Category\n",
       "Binders        907\n",
       "Paper          810\n",
       "Furnishings    558\n",
       "Phones         511\n",
       "dtype: int64"
      ]
     },
     "execution_count": 23,
     "metadata": {},
     "output_type": "execute_result"
    }
   ],
   "source": [
    "top_categories = purchase_counts.nlargest(4)\n",
    "top_categories"
   ]
  },
  {
   "cell_type": "markdown",
   "id": "484e2d33-093e-4528-806a-3eddf9345e1b",
   "metadata": {},
   "source": [
    "**Визуализация результата**"
   ]
  },
  {
   "cell_type": "code",
   "execution_count": 24,
   "id": "3c59f719-5fb0-4b9a-95c0-e2f1046776eb",
   "metadata": {},
   "outputs": [
    {
     "data": {
      "image/png": "[encoded data removed]",
      "text/plain": [
       "<Figure size 1000x600 with 1 Axes>"
      ]
     },
     "metadata": {},
     "output_type": "display_data"
    }
   ],
   "source": [
    "plt.figure(figsize=(10, 6))\n",
    "top_categories.plot(kind='bar', color='skyblue')\n",
    "plt.title('Топ 4 подгрупп товаров с наибольшим количеством покупок')\n",
    "plt.xlabel('Sub-Category')\n",
    "plt.ylabel('Количество покупок')\n",
    "plt.xticks(rotation=45, ha='right')\n",
    "plt.tight_layout()\n",
    "plt.show()"
   ]
  },
  {
   "cell_type": "markdown",
   "id": "cc14a153-51f5-4b6c-9688-c9bc3b0e104d",
   "metadata": {},
   "source": [
    "## Задание 1в"
   ]
  },
  {
   "cell_type": "markdown",
   "id": "360bc2d9-6c77-4e4e-9105-bfd17bf6991d",
   "metadata": {},
   "source": [
    "**Преобразуем столбец 'Order Date' в формат даты**"
   ]
  },
  {
   "cell_type": "code",
   "execution_count": 26,
   "id": "0bca93b9-2dd8-4daf-a0c3-3136fd4b4399",
   "metadata": {},
   "outputs": [
    {
     "data": {
      "text/html": [
       "<div>\n",
       "<style scoped>\n",
       "    .dataframe tbody tr th:only-of-type {\n",
       "        vertical-align: middle;\n",
       "    }\n",
       "\n",
       "    .dataframe tbody tr th {\n",
       "        vertical-align: top;\n",
       "    }\n",
       "\n",
       "    .dataframe thead th {\n",
       "        text-align: right;\n",
       "    }\n",
       "</style>\n",
       "<table border=\"1\" class=\"dataframe\">\n",
       "  <thead>\n",
       "    <tr style=\"text-align: right;\">\n",
       "      <th></th>\n",
       "      <th>ID</th>\n",
       "      <th>Order Date</th>\n",
       "      <th>Class</th>\n",
       "      <th>Region</th>\n",
       "      <th>Sub-Category</th>\n",
       "      <th>Sales</th>\n",
       "    </tr>\n",
       "  </thead>\n",
       "  <tbody>\n",
       "    <tr>\n",
       "      <th>0</th>\n",
       "      <td>646</td>\n",
       "      <td>2018-12-30</td>\n",
       "      <td>Стандарт</td>\n",
       "      <td>Урал</td>\n",
       "      <td>Appliances</td>\n",
       "      <td>37229,08</td>\n",
       "    </tr>\n",
       "    <tr>\n",
       "      <th>1</th>\n",
       "      <td>907</td>\n",
       "      <td>2018-12-30</td>\n",
       "      <td>Стандарт</td>\n",
       "      <td>Владивосток</td>\n",
       "      <td>Bookcases</td>\n",
       "      <td>20994,61</td>\n",
       "    </tr>\n",
       "    <tr>\n",
       "      <th>2</th>\n",
       "      <td>908</td>\n",
       "      <td>2018-12-30</td>\n",
       "      <td>Стандарт</td>\n",
       "      <td>Владивосток</td>\n",
       "      <td>Phones</td>\n",
       "      <td>42133,86</td>\n",
       "    </tr>\n",
       "    <tr>\n",
       "      <th>3</th>\n",
       "      <td>909</td>\n",
       "      <td>2018-12-30</td>\n",
       "      <td>Стандарт</td>\n",
       "      <td>Владивосток</td>\n",
       "      <td>Binders</td>\n",
       "      <td>10612</td>\n",
       "    </tr>\n",
       "    <tr>\n",
       "      <th>4</th>\n",
       "      <td>1297</td>\n",
       "      <td>2018-12-30</td>\n",
       "      <td>Стандарт</td>\n",
       "      <td>Калиниград</td>\n",
       "      <td>Binders</td>\n",
       "      <td>28781,13</td>\n",
       "    </tr>\n",
       "    <tr>\n",
       "      <th>...</th>\n",
       "      <td>...</td>\n",
       "      <td>...</td>\n",
       "      <td>...</td>\n",
       "      <td>...</td>\n",
       "      <td>...</td>\n",
       "      <td>...</td>\n",
       "    </tr>\n",
       "    <tr>\n",
       "      <th>9795</th>\n",
       "      <td>1760</td>\n",
       "      <td>2015-01-05</td>\n",
       "      <td>Стандарт</td>\n",
       "      <td>Владивосток</td>\n",
       "      <td>Art</td>\n",
       "      <td>8639,472</td>\n",
       "    </tr>\n",
       "    <tr>\n",
       "      <th>9796</th>\n",
       "      <td>740</td>\n",
       "      <td>2015-01-04</td>\n",
       "      <td>Стандарт</td>\n",
       "      <td>Урал</td>\n",
       "      <td>Labels</td>\n",
       "      <td>15246,05</td>\n",
       "    </tr>\n",
       "    <tr>\n",
       "      <th>9797</th>\n",
       "      <td>741</td>\n",
       "      <td>2015-01-04</td>\n",
       "      <td>Стандарт</td>\n",
       "      <td>Урал</td>\n",
       "      <td>Storage</td>\n",
       "      <td>20415,81</td>\n",
       "    </tr>\n",
       "    <tr>\n",
       "      <th>9798</th>\n",
       "      <td>742</td>\n",
       "      <td>2015-01-04</td>\n",
       "      <td>Стандарт</td>\n",
       "      <td>Урал</td>\n",
       "      <td>Binders</td>\n",
       "      <td>4559,085</td>\n",
       "    </tr>\n",
       "    <tr>\n",
       "      <th>9799</th>\n",
       "      <td>7981</td>\n",
       "      <td>2015-01-03</td>\n",
       "      <td>Стандарт</td>\n",
       "      <td>Урал</td>\n",
       "      <td>Paper</td>\n",
       "      <td>11726,47</td>\n",
       "    </tr>\n",
       "  </tbody>\n",
       "</table>\n",
       "<p>9800 rows × 6 columns</p>\n",
       "</div>"
      ],
      "text/plain": [
       "        ID Order Date     Class       Region Sub-Category     Sales\n",
       "0      646 2018-12-30  Стандарт         Урал   Appliances  37229,08\n",
       "1      907 2018-12-30  Стандарт  Владивосток    Bookcases  20994,61\n",
       "2      908 2018-12-30  Стандарт  Владивосток       Phones  42133,86\n",
       "3      909 2018-12-30  Стандарт  Владивосток      Binders     10612\n",
       "4     1297 2018-12-30  Стандарт   Калиниград      Binders  28781,13\n",
       "...    ...        ...       ...          ...          ...       ...\n",
       "9795  1760 2015-01-05  Стандарт  Владивосток          Art  8639,472\n",
       "9796   740 2015-01-04  Стандарт         Урал       Labels  15246,05\n",
       "9797   741 2015-01-04  Стандарт         Урал      Storage  20415,81\n",
       "9798   742 2015-01-04  Стандарт         Урал      Binders  4559,085\n",
       "9799  7981 2015-01-03  Стандарт         Урал        Paper  11726,47\n",
       "\n",
       "[9800 rows x 6 columns]"
      ]
     },
     "execution_count": 26,
     "metadata": {},
     "output_type": "execute_result"
    }
   ],
   "source": [
    "df['Order Date'] = pd.to_datetime(df['Order Date'], format='%d/%m/%Y')\n",
    "df"
   ]
  },
  {
   "cell_type": "markdown",
   "id": "4e0f29e4-7a21-43aa-8ed9-c9984e196015",
   "metadata": {},
   "source": [
    "**Фильтруем данные по дате, оставив только покупки за последний год**"
   ]
  },
  {
   "cell_type": "code",
   "execution_count": 28,
   "id": "2f185257-a9b8-4f6a-af97-3cff07a0a7ef",
   "metadata": {},
   "outputs": [
    {
     "data": {
      "text/html": [
       "<div>\n",
       "<style scoped>\n",
       "    .dataframe tbody tr th:only-of-type {\n",
       "        vertical-align: middle;\n",
       "    }\n",
       "\n",
       "    .dataframe tbody tr th {\n",
       "        vertical-align: top;\n",
       "    }\n",
       "\n",
       "    .dataframe thead th {\n",
       "        text-align: right;\n",
       "    }\n",
       "</style>\n",
       "<table border=\"1\" class=\"dataframe\">\n",
       "  <thead>\n",
       "    <tr style=\"text-align: right;\">\n",
       "      <th></th>\n",
       "      <th>ID</th>\n",
       "      <th>Order Date</th>\n",
       "      <th>Class</th>\n",
       "      <th>Region</th>\n",
       "      <th>Sub-Category</th>\n",
       "      <th>Sales</th>\n",
       "    </tr>\n",
       "  </thead>\n",
       "  <tbody>\n",
       "    <tr>\n",
       "      <th>0</th>\n",
       "      <td>646</td>\n",
       "      <td>2018-12-30</td>\n",
       "      <td>Стандарт</td>\n",
       "      <td>Урал</td>\n",
       "      <td>Appliances</td>\n",
       "      <td>37229,08</td>\n",
       "    </tr>\n",
       "    <tr>\n",
       "      <th>1</th>\n",
       "      <td>907</td>\n",
       "      <td>2018-12-30</td>\n",
       "      <td>Стандарт</td>\n",
       "      <td>Владивосток</td>\n",
       "      <td>Bookcases</td>\n",
       "      <td>20994,61</td>\n",
       "    </tr>\n",
       "    <tr>\n",
       "      <th>2</th>\n",
       "      <td>908</td>\n",
       "      <td>2018-12-30</td>\n",
       "      <td>Стандарт</td>\n",
       "      <td>Владивосток</td>\n",
       "      <td>Phones</td>\n",
       "      <td>42133,86</td>\n",
       "    </tr>\n",
       "    <tr>\n",
       "      <th>3</th>\n",
       "      <td>909</td>\n",
       "      <td>2018-12-30</td>\n",
       "      <td>Стандарт</td>\n",
       "      <td>Владивосток</td>\n",
       "      <td>Binders</td>\n",
       "      <td>10612</td>\n",
       "    </tr>\n",
       "    <tr>\n",
       "      <th>4</th>\n",
       "      <td>1297</td>\n",
       "      <td>2018-12-30</td>\n",
       "      <td>Стандарт</td>\n",
       "      <td>Калиниград</td>\n",
       "      <td>Binders</td>\n",
       "      <td>28781,13</td>\n",
       "    </tr>\n",
       "    <tr>\n",
       "      <th>...</th>\n",
       "      <td>...</td>\n",
       "      <td>...</td>\n",
       "      <td>...</td>\n",
       "      <td>...</td>\n",
       "      <td>...</td>\n",
       "      <td>...</td>\n",
       "    </tr>\n",
       "    <tr>\n",
       "      <th>3268</th>\n",
       "      <td>5760</td>\n",
       "      <td>2017-12-30</td>\n",
       "      <td>Same Day</td>\n",
       "      <td>Калиниград</td>\n",
       "      <td>Storage</td>\n",
       "      <td>4309,298</td>\n",
       "    </tr>\n",
       "    <tr>\n",
       "      <th>3269</th>\n",
       "      <td>5761</td>\n",
       "      <td>2017-12-30</td>\n",
       "      <td>Same Day</td>\n",
       "      <td>Калиниград</td>\n",
       "      <td>Binders</td>\n",
       "      <td>1992,969</td>\n",
       "    </tr>\n",
       "    <tr>\n",
       "      <th>3270</th>\n",
       "      <td>7562</td>\n",
       "      <td>2017-12-30</td>\n",
       "      <td>Первый класс</td>\n",
       "      <td>Владивосток</td>\n",
       "      <td>Chairs</td>\n",
       "      <td>24409,77</td>\n",
       "    </tr>\n",
       "    <tr>\n",
       "      <th>3271</th>\n",
       "      <td>8667</td>\n",
       "      <td>2017-12-30</td>\n",
       "      <td>Первый класс</td>\n",
       "      <td>Владивосток</td>\n",
       "      <td>Art</td>\n",
       "      <td>38318,06</td>\n",
       "    </tr>\n",
       "    <tr>\n",
       "      <th>3272</th>\n",
       "      <td>9283</td>\n",
       "      <td>2017-12-30</td>\n",
       "      <td>Стандарт</td>\n",
       "      <td>Москва</td>\n",
       "      <td>Paper</td>\n",
       "      <td>40014,79</td>\n",
       "    </tr>\n",
       "  </tbody>\n",
       "</table>\n",
       "<p>3273 rows × 6 columns</p>\n",
       "</div>"
      ],
      "text/plain": [
       "        ID Order Date         Class       Region Sub-Category     Sales\n",
       "0      646 2018-12-30      Стандарт         Урал   Appliances  37229,08\n",
       "1      907 2018-12-30      Стандарт  Владивосток    Bookcases  20994,61\n",
       "2      908 2018-12-30      Стандарт  Владивосток       Phones  42133,86\n",
       "3      909 2018-12-30      Стандарт  Владивосток      Binders     10612\n",
       "4     1297 2018-12-30      Стандарт   Калиниград      Binders  28781,13\n",
       "...    ...        ...           ...          ...          ...       ...\n",
       "3268  5760 2017-12-30      Same Day   Калиниград      Storage  4309,298\n",
       "3269  5761 2017-12-30      Same Day   Калиниград      Binders  1992,969\n",
       "3270  7562 2017-12-30  Первый класс  Владивосток       Chairs  24409,77\n",
       "3271  8667 2017-12-30  Первый класс  Владивосток          Art  38318,06\n",
       "3272  9283 2017-12-30      Стандарт       Москва        Paper  40014,79\n",
       "\n",
       "[3273 rows x 6 columns]"
      ]
     },
     "execution_count": 28,
     "metadata": {},
     "output_type": "execute_result"
    }
   ],
   "source": [
    "max_date = df['Order Date'].max()\n",
    "df = df[df['Order Date'] >= max_date - pd.DateOffset(years=1)]\n",
    "df"
   ]
  },
  {
   "cell_type": "markdown",
   "id": "25a815b0-ddd0-43d0-850b-3b2bc1a3ead6",
   "metadata": {},
   "source": [
    "**Группируем по 'Sub-Category' и считаем количество покупок**"
   ]
  },
  {
   "cell_type": "code",
   "execution_count": 29,
   "id": "0871cf9f-fc20-488e-b6a2-48122cefeb3f",
   "metadata": {},
   "outputs": [
    {
     "data": {
      "text/plain": [
       "Sub-Category\n",
       "Accessories    266\n",
       "Appliances     161\n",
       "Art            282\n",
       "Binders        496\n",
       "Bookcases       76\n",
       "Chairs         188\n",
       "Copiers         22\n",
       "Envelopes       71\n",
       "Fasteners       63\n",
       "Furnishings    310\n",
       "Labels         114\n",
       "Machines        33\n",
       "Paper          454\n",
       "Phones         291\n",
       "Storage        283\n",
       "Supplies        59\n",
       "Tables         104\n",
       "dtype: int64"
      ]
     },
     "execution_count": 29,
     "metadata": {},
     "output_type": "execute_result"
    }
   ],
   "source": [
    "purchases_count = df.groupby('Sub-Category').size()\n",
    "purchases_count"
   ]
  },
  {
   "cell_type": "markdown",
   "id": "d3c24cbf-21af-48cc-9df3-98717c09ed16",
   "metadata": {},
   "source": [
    "**Выбираем топ 4 подгруппы товаров с наибольшим количеством покупок**"
   ]
  },
  {
   "cell_type": "code",
   "execution_count": 31,
   "id": "3d4181c9-50ee-496f-98fc-f4390920b8bd",
   "metadata": {},
   "outputs": [
    {
     "data": {
      "text/plain": [
       "Sub-Category\n",
       "Binders        496\n",
       "Paper          454\n",
       "Furnishings    310\n",
       "Phones         291\n",
       "dtype: int64"
      ]
     },
     "execution_count": 31,
     "metadata": {},
     "output_type": "execute_result"
    }
   ],
   "source": [
    "top_4_subcategories = purchases_count.nlargest(4)\n",
    "top_4_subcategories"
   ]
  },
  {
   "cell_type": "markdown",
   "id": "33c86af4-1e49-446c-bfd2-67a5850c10e4",
   "metadata": {},
   "source": [
    "**Визуализируем результат**"
   ]
  },
  {
   "cell_type": "code",
   "execution_count": 32,
   "id": "3653e905-0660-4778-b268-9c486a5422c4",
   "metadata": {},
   "outputs": [
    {
     "data": {
      "image/png": "[encoded data removed]",
      "text/plain": [
       "<Figure size 1000x600 with 1 Axes>"
      ]
     },
     "metadata": {},
     "output_type": "display_data"
    }
   ],
   "source": [
    "plt.figure(figsize=(10, 6))\n",
    "plt.bar(top_4_subcategories.index, top_4_subcategories.values)\n",
    "plt.title('Топ 4 подгрупп товаров с наибольшим количеством покупок')\n",
    "plt.xlabel('Подгруппа товаров')\n",
    "plt.ylabel('Количество покупок')\n",
    "plt.xticks(rotation=45)\n",
    "plt.tight_layout()\n",
    "plt.show()"
   ]
  },
  {
   "cell_type": "markdown",
   "id": "a3ea3d5d-ddef-4b31-9104-dcd3a0976b17",
   "metadata": {},
   "source": [
    "### Вывод:\n",
    "\n",
    "а) **За все время** чаще всего покупали товары из категорий \"Binders\", \"Paper\", \"Furnishings\" и \"Phones\"\n",
    "\n",
    "б) **За последние два года** чаще всего покупали товары из категорий \"Binders\", \"Paper\", \"Furnishings\" и \"Phones\"\n",
    "\n",
    "в) **За последний год** чаще всего покупали товары из категорий \"Binders\", \"Paper\", \"Furnishings\" и \"Phones\""
   ]
  },
  {
   "cell_type": "markdown",
   "id": "c6c23cef-c7d7-4973-9443-d0692206569e",
   "metadata": {},
   "source": [
    "## Задание 2"
   ]
  },
  {
   "cell_type": "markdown",
   "id": "cd6c3490-0e14-410c-b35f-0d760ee1929b",
   "metadata": {},
   "source": [
    "**Преобразуем столбец \"Sales\" в более удобный формат**"
   ]
  },
  {
   "cell_type": "code",
   "execution_count": 36,
   "id": "20fe2efd-ebdc-4f1d-80d7-7793d4126bac",
   "metadata": {},
   "outputs": [
    {
     "data": {
      "text/html": [
       "<div>\n",
       "<style scoped>\n",
       "    .dataframe tbody tr th:only-of-type {\n",
       "        vertical-align: middle;\n",
       "    }\n",
       "\n",
       "    .dataframe tbody tr th {\n",
       "        vertical-align: top;\n",
       "    }\n",
       "\n",
       "    .dataframe thead th {\n",
       "        text-align: right;\n",
       "    }\n",
       "</style>\n",
       "<table border=\"1\" class=\"dataframe\">\n",
       "  <thead>\n",
       "    <tr style=\"text-align: right;\">\n",
       "      <th></th>\n",
       "      <th>ID</th>\n",
       "      <th>Order Date</th>\n",
       "      <th>Class</th>\n",
       "      <th>Region</th>\n",
       "      <th>Sub-Category</th>\n",
       "      <th>Sales</th>\n",
       "    </tr>\n",
       "  </thead>\n",
       "  <tbody>\n",
       "    <tr>\n",
       "      <th>0</th>\n",
       "      <td>646</td>\n",
       "      <td>30/12/2018</td>\n",
       "      <td>Стандарт</td>\n",
       "      <td>Урал</td>\n",
       "      <td>Appliances</td>\n",
       "      <td>37229.080</td>\n",
       "    </tr>\n",
       "    <tr>\n",
       "      <th>1</th>\n",
       "      <td>907</td>\n",
       "      <td>30/12/2018</td>\n",
       "      <td>Стандарт</td>\n",
       "      <td>Владивосток</td>\n",
       "      <td>Bookcases</td>\n",
       "      <td>20994.610</td>\n",
       "    </tr>\n",
       "    <tr>\n",
       "      <th>2</th>\n",
       "      <td>908</td>\n",
       "      <td>30/12/2018</td>\n",
       "      <td>Стандарт</td>\n",
       "      <td>Владивосток</td>\n",
       "      <td>Phones</td>\n",
       "      <td>42133.860</td>\n",
       "    </tr>\n",
       "    <tr>\n",
       "      <th>3</th>\n",
       "      <td>909</td>\n",
       "      <td>30/12/2018</td>\n",
       "      <td>Стандарт</td>\n",
       "      <td>Владивосток</td>\n",
       "      <td>Binders</td>\n",
       "      <td>10612.000</td>\n",
       "    </tr>\n",
       "    <tr>\n",
       "      <th>4</th>\n",
       "      <td>1297</td>\n",
       "      <td>30/12/2018</td>\n",
       "      <td>Стандарт</td>\n",
       "      <td>Калиниград</td>\n",
       "      <td>Binders</td>\n",
       "      <td>28781.130</td>\n",
       "    </tr>\n",
       "    <tr>\n",
       "      <th>...</th>\n",
       "      <td>...</td>\n",
       "      <td>...</td>\n",
       "      <td>...</td>\n",
       "      <td>...</td>\n",
       "      <td>...</td>\n",
       "      <td>...</td>\n",
       "    </tr>\n",
       "    <tr>\n",
       "      <th>9795</th>\n",
       "      <td>1760</td>\n",
       "      <td>05/01/2015</td>\n",
       "      <td>Стандарт</td>\n",
       "      <td>Владивосток</td>\n",
       "      <td>Art</td>\n",
       "      <td>8639.472</td>\n",
       "    </tr>\n",
       "    <tr>\n",
       "      <th>9796</th>\n",
       "      <td>740</td>\n",
       "      <td>04/01/2015</td>\n",
       "      <td>Стандарт</td>\n",
       "      <td>Урал</td>\n",
       "      <td>Labels</td>\n",
       "      <td>15246.050</td>\n",
       "    </tr>\n",
       "    <tr>\n",
       "      <th>9797</th>\n",
       "      <td>741</td>\n",
       "      <td>04/01/2015</td>\n",
       "      <td>Стандарт</td>\n",
       "      <td>Урал</td>\n",
       "      <td>Storage</td>\n",
       "      <td>20415.810</td>\n",
       "    </tr>\n",
       "    <tr>\n",
       "      <th>9798</th>\n",
       "      <td>742</td>\n",
       "      <td>04/01/2015</td>\n",
       "      <td>Стандарт</td>\n",
       "      <td>Урал</td>\n",
       "      <td>Binders</td>\n",
       "      <td>4559.085</td>\n",
       "    </tr>\n",
       "    <tr>\n",
       "      <th>9799</th>\n",
       "      <td>7981</td>\n",
       "      <td>03/01/2015</td>\n",
       "      <td>Стандарт</td>\n",
       "      <td>Урал</td>\n",
       "      <td>Paper</td>\n",
       "      <td>11726.470</td>\n",
       "    </tr>\n",
       "  </tbody>\n",
       "</table>\n",
       "<p>9800 rows × 6 columns</p>\n",
       "</div>"
      ],
      "text/plain": [
       "        ID  Order Date     Class       Region Sub-Category      Sales\n",
       "0      646  30/12/2018  Стандарт         Урал   Appliances  37229.080\n",
       "1      907  30/12/2018  Стандарт  Владивосток    Bookcases  20994.610\n",
       "2      908  30/12/2018  Стандарт  Владивосток       Phones  42133.860\n",
       "3      909  30/12/2018  Стандарт  Владивосток      Binders  10612.000\n",
       "4     1297  30/12/2018  Стандарт   Калиниград      Binders  28781.130\n",
       "...    ...         ...       ...          ...          ...        ...\n",
       "9795  1760  05/01/2015  Стандарт  Владивосток          Art   8639.472\n",
       "9796   740  04/01/2015  Стандарт         Урал       Labels  15246.050\n",
       "9797   741  04/01/2015  Стандарт         Урал      Storage  20415.810\n",
       "9798   742  04/01/2015  Стандарт         Урал      Binders   4559.085\n",
       "9799  7981  03/01/2015  Стандарт         Урал        Paper  11726.470\n",
       "\n",
       "[9800 rows x 6 columns]"
      ]
     },
     "execution_count": 36,
     "metadata": {},
     "output_type": "execute_result"
    }
   ],
   "source": [
    "df['Sales'] = df['Sales'].str.replace(',', '.').astype(float)\n",
    "df"
   ]
  },
  {
   "cell_type": "markdown",
   "id": "400bdd1b-4506-4bf5-92e9-9f00930fbc57",
   "metadata": {},
   "source": [
    "**Строим boxplot для исходных данных**"
   ]
  },
  {
   "cell_type": "code",
   "execution_count": 37,
   "id": "2d48d30d-f2b0-4af8-a7a1-ca8e5f0c72ee",
   "metadata": {},
   "outputs": [
    {
     "data": {
      "image/png": "[encoded data removed]",
      "text/plain": [
       "<Figure size 800x600 with 1 Axes>"
      ]
     },
     "metadata": {},
     "output_type": "display_data"
    }
   ],
   "source": [
    "plt.figure(figsize=(8, 6))\n",
    "plt.boxplot(df['Sales'], vert=False, patch_artist=True, showmeans=True)\n",
    "plt.title('Boxplot of Sales (Original Data)')\n",
    "plt.xlabel('Sales')\n",
    "plt.show()"
   ]
  },
  {
   "cell_type": "markdown",
   "id": "df4235ea-5745-4e9a-8a5e-ca56299ece39",
   "metadata": {},
   "source": [
    "**Выявление выбросов с помощью правила трех сигм**"
   ]
  },
  {
   "cell_type": "code",
   "execution_count": 38,
   "id": "40d72bf8-abb2-43ee-8aa2-2d805cd0e7b2",
   "metadata": {},
   "outputs": [
    {
     "data": {
      "text/html": [
       "<div>\n",
       "<style scoped>\n",
       "    .dataframe tbody tr th:only-of-type {\n",
       "        vertical-align: middle;\n",
       "    }\n",
       "\n",
       "    .dataframe tbody tr th {\n",
       "        vertical-align: top;\n",
       "    }\n",
       "\n",
       "    .dataframe thead th {\n",
       "        text-align: right;\n",
       "    }\n",
       "</style>\n",
       "<table border=\"1\" class=\"dataframe\">\n",
       "  <thead>\n",
       "    <tr style=\"text-align: right;\">\n",
       "      <th></th>\n",
       "      <th>ID</th>\n",
       "      <th>Order Date</th>\n",
       "      <th>Class</th>\n",
       "      <th>Region</th>\n",
       "      <th>Sub-Category</th>\n",
       "      <th>Sales</th>\n",
       "    </tr>\n",
       "  </thead>\n",
       "  <tbody>\n",
       "  </tbody>\n",
       "</table>\n",
       "</div>"
      ],
      "text/plain": [
       "Empty DataFrame\n",
       "Columns: [ID, Order Date, Class, Region, Sub-Category, Sales]\n",
       "Index: []"
      ]
     },
     "execution_count": 38,
     "metadata": {},
     "output_type": "execute_result"
    }
   ],
   "source": [
    "mean = df['Sales'].mean()\n",
    "std = df['Sales'].std()\n",
    "lower_bound = mean - 3 * std\n",
    "upper_bound = mean + 3 * std\n",
    "\n",
    "outliers = df[(df['Sales'] < lower_bound) | (df['Sales'] > upper_bound)]\n",
    "outliers"
   ]
  },
  {
   "cell_type": "code",
   "execution_count": 39,
   "id": "1777a1f8-6972-44c1-8f0f-9d960eeb368d",
   "metadata": {},
   "outputs": [
    {
     "data": {
      "text/plain": [
       "22921.75773653061"
      ]
     },
     "execution_count": 39,
     "metadata": {},
     "output_type": "execute_result"
    }
   ],
   "source": [
    "mean"
   ]
  },
  {
   "cell_type": "code",
   "execution_count": 40,
   "id": "70ea0a80-42ee-407d-9223-1f788361f3a3",
   "metadata": {},
   "outputs": [
    {
     "data": {
      "text/plain": [
       "12601.999815243944"
      ]
     },
     "execution_count": 40,
     "metadata": {},
     "output_type": "execute_result"
    }
   ],
   "source": [
    "std"
   ]
  },
  {
   "cell_type": "code",
   "execution_count": 41,
   "id": "6f50010c-1898-46ef-9d12-5e158fdd3a91",
   "metadata": {},
   "outputs": [
    {
     "data": {
      "text/plain": [
       "-14884.241709201222"
      ]
     },
     "execution_count": 41,
     "metadata": {},
     "output_type": "execute_result"
    }
   ],
   "source": [
    "lower_bound"
   ]
  },
  {
   "cell_type": "code",
   "execution_count": 42,
   "id": "6b09d18d-6cfd-47a7-a905-824d166fa946",
   "metadata": {},
   "outputs": [
    {
     "data": {
      "text/plain": [
       "60727.757182262445"
      ]
     },
     "execution_count": 42,
     "metadata": {},
     "output_type": "execute_result"
    }
   ],
   "source": [
    "upper_bound"
   ]
  },
  {
   "cell_type": "markdown",
   "id": "560e32ab-4ef9-46fe-bf36-e292e6ac7703",
   "metadata": {},
   "source": [
    "**Удаляем выбросы**"
   ]
  },
  {
   "cell_type": "code",
   "execution_count": 43,
   "id": "e9ad2dc5-6cce-4e13-ae43-23a3c80e1e00",
   "metadata": {},
   "outputs": [
    {
     "data": {
      "text/html": [
       "<div>\n",
       "<style scoped>\n",
       "    .dataframe tbody tr th:only-of-type {\n",
       "        vertical-align: middle;\n",
       "    }\n",
       "\n",
       "    .dataframe tbody tr th {\n",
       "        vertical-align: top;\n",
       "    }\n",
       "\n",
       "    .dataframe thead th {\n",
       "        text-align: right;\n",
       "    }\n",
       "</style>\n",
       "<table border=\"1\" class=\"dataframe\">\n",
       "  <thead>\n",
       "    <tr style=\"text-align: right;\">\n",
       "      <th></th>\n",
       "      <th>ID</th>\n",
       "      <th>Order Date</th>\n",
       "      <th>Class</th>\n",
       "      <th>Region</th>\n",
       "      <th>Sub-Category</th>\n",
       "      <th>Sales</th>\n",
       "    </tr>\n",
       "  </thead>\n",
       "  <tbody>\n",
       "    <tr>\n",
       "      <th>0</th>\n",
       "      <td>646</td>\n",
       "      <td>30/12/2018</td>\n",
       "      <td>Стандарт</td>\n",
       "      <td>Урал</td>\n",
       "      <td>Appliances</td>\n",
       "      <td>37229.080</td>\n",
       "    </tr>\n",
       "    <tr>\n",
       "      <th>1</th>\n",
       "      <td>907</td>\n",
       "      <td>30/12/2018</td>\n",
       "      <td>Стандарт</td>\n",
       "      <td>Владивосток</td>\n",
       "      <td>Bookcases</td>\n",
       "      <td>20994.610</td>\n",
       "    </tr>\n",
       "    <tr>\n",
       "      <th>2</th>\n",
       "      <td>908</td>\n",
       "      <td>30/12/2018</td>\n",
       "      <td>Стандарт</td>\n",
       "      <td>Владивосток</td>\n",
       "      <td>Phones</td>\n",
       "      <td>42133.860</td>\n",
       "    </tr>\n",
       "    <tr>\n",
       "      <th>3</th>\n",
       "      <td>909</td>\n",
       "      <td>30/12/2018</td>\n",
       "      <td>Стандарт</td>\n",
       "      <td>Владивосток</td>\n",
       "      <td>Binders</td>\n",
       "      <td>10612.000</td>\n",
       "    </tr>\n",
       "    <tr>\n",
       "      <th>4</th>\n",
       "      <td>1297</td>\n",
       "      <td>30/12/2018</td>\n",
       "      <td>Стандарт</td>\n",
       "      <td>Калиниград</td>\n",
       "      <td>Binders</td>\n",
       "      <td>28781.130</td>\n",
       "    </tr>\n",
       "    <tr>\n",
       "      <th>...</th>\n",
       "      <td>...</td>\n",
       "      <td>...</td>\n",
       "      <td>...</td>\n",
       "      <td>...</td>\n",
       "      <td>...</td>\n",
       "      <td>...</td>\n",
       "    </tr>\n",
       "    <tr>\n",
       "      <th>9795</th>\n",
       "      <td>1760</td>\n",
       "      <td>05/01/2015</td>\n",
       "      <td>Стандарт</td>\n",
       "      <td>Владивосток</td>\n",
       "      <td>Art</td>\n",
       "      <td>8639.472</td>\n",
       "    </tr>\n",
       "    <tr>\n",
       "      <th>9796</th>\n",
       "      <td>740</td>\n",
       "      <td>04/01/2015</td>\n",
       "      <td>Стандарт</td>\n",
       "      <td>Урал</td>\n",
       "      <td>Labels</td>\n",
       "      <td>15246.050</td>\n",
       "    </tr>\n",
       "    <tr>\n",
       "      <th>9797</th>\n",
       "      <td>741</td>\n",
       "      <td>04/01/2015</td>\n",
       "      <td>Стандарт</td>\n",
       "      <td>Урал</td>\n",
       "      <td>Storage</td>\n",
       "      <td>20415.810</td>\n",
       "    </tr>\n",
       "    <tr>\n",
       "      <th>9798</th>\n",
       "      <td>742</td>\n",
       "      <td>04/01/2015</td>\n",
       "      <td>Стандарт</td>\n",
       "      <td>Урал</td>\n",
       "      <td>Binders</td>\n",
       "      <td>4559.085</td>\n",
       "    </tr>\n",
       "    <tr>\n",
       "      <th>9799</th>\n",
       "      <td>7981</td>\n",
       "      <td>03/01/2015</td>\n",
       "      <td>Стандарт</td>\n",
       "      <td>Урал</td>\n",
       "      <td>Paper</td>\n",
       "      <td>11726.470</td>\n",
       "    </tr>\n",
       "  </tbody>\n",
       "</table>\n",
       "<p>9800 rows × 6 columns</p>\n",
       "</div>"
      ],
      "text/plain": [
       "        ID  Order Date     Class       Region Sub-Category      Sales\n",
       "0      646  30/12/2018  Стандарт         Урал   Appliances  37229.080\n",
       "1      907  30/12/2018  Стандарт  Владивосток    Bookcases  20994.610\n",
       "2      908  30/12/2018  Стандарт  Владивосток       Phones  42133.860\n",
       "3      909  30/12/2018  Стандарт  Владивосток      Binders  10612.000\n",
       "4     1297  30/12/2018  Стандарт   Калиниград      Binders  28781.130\n",
       "...    ...         ...       ...          ...          ...        ...\n",
       "9795  1760  05/01/2015  Стандарт  Владивосток          Art   8639.472\n",
       "9796   740  04/01/2015  Стандарт         Урал       Labels  15246.050\n",
       "9797   741  04/01/2015  Стандарт         Урал      Storage  20415.810\n",
       "9798   742  04/01/2015  Стандарт         Урал      Binders   4559.085\n",
       "9799  7981  03/01/2015  Стандарт         Урал        Paper  11726.470\n",
       "\n",
       "[9800 rows x 6 columns]"
      ]
     },
     "execution_count": 43,
     "metadata": {},
     "output_type": "execute_result"
    }
   ],
   "source": [
    "df_cleaned = df[(df['Sales'] >= lower_bound) & (df['Sales'] <= upper_bound)]\n",
    "df_cleaned"
   ]
  },
  {
   "cell_type": "markdown",
   "id": "a7465ca0-ea21-4398-afd3-ecb81e84aab3",
   "metadata": {},
   "source": [
    "**Строим boxplot для данных без выбросов**"
   ]
  },
  {
   "cell_type": "code",
   "execution_count": 44,
   "id": "6fb58895-bb56-48ab-8879-f9a4e3b086d2",
   "metadata": {},
   "outputs": [
    {
     "data": {
      "image/png": "[encoded data removed]",
      "text/plain": [
       "<Figure size 800x600 with 1 Axes>"
      ]
     },
     "metadata": {},
     "output_type": "display_data"
    }
   ],
   "source": [
    "plt.figure(figsize=(8, 6))\n",
    "plt.boxplot(df_cleaned['Sales'], vert=False, patch_artist=True, showmeans=True)\n",
    "plt.title('Boxplot of Sales (Without Outliers)')\n",
    "plt.xlabel('Sales')\n",
    "plt.show()"
   ]
  },
  {
   "cell_type": "markdown",
   "id": "33a11ba5-7a2f-4d24-a82c-45de8e0843a7",
   "metadata": {},
   "source": [
    "**Вывод о мажоритарной черте распределения продаж**"
   ]
  },
  {
   "cell_type": "code",
   "execution_count": 45,
   "id": "c44637fd-8f97-4562-ae0c-9741afb0d4d5",
   "metadata": {},
   "outputs": [
    {
     "name": "stdout",
     "output_type": "stream",
     "text": [
      "Среднее значение продаж: 22921.76\n",
      "Медиана продаж: 22882.06\n"
     ]
    }
   ],
   "source": [
    "print(f'Среднее значение продаж: {df_cleaned[\"Sales\"].mean():.2f}')\n",
    "print(f'Медиана продаж: {df_cleaned[\"Sales\"].median():.2f}')"
   ]
  },
  {
   "cell_type": "markdown",
   "id": "c00375ef-5e12-4742-96c1-11146cb5ba6d",
   "metadata": {},
   "source": [
    "### Вывод\n",
    "\n",
    "**Аномальных значений найдено не было**\n",
    "\n",
    "**Распределение продаж смещено вправо (справа от медианы больше данных).**"
   ]
  },
  {
   "cell_type": "markdown",
   "id": "c5148754-090c-4ade-a784-6ba50afff382",
   "metadata": {},
   "source": [
    "## Задание 3"
   ]
  },
  {
   "cell_type": "markdown",
   "id": "ffbb261e-3bc8-47f5-8b53-e0f206184291",
   "metadata": {},
   "source": [
    "**Преобразование колонки \"Sales\" в числовой формат**"
   ]
  },
  {
   "cell_type": "code",
   "execution_count": 63,
   "id": "d6850ef5-3247-447d-be2c-a4b6f236d177",
   "metadata": {},
   "outputs": [
    {
     "data": {
      "text/html": [
       "<div>\n",
       "<style scoped>\n",
       "    .dataframe tbody tr th:only-of-type {\n",
       "        vertical-align: middle;\n",
       "    }\n",
       "\n",
       "    .dataframe tbody tr th {\n",
       "        vertical-align: top;\n",
       "    }\n",
       "\n",
       "    .dataframe thead th {\n",
       "        text-align: right;\n",
       "    }\n",
       "</style>\n",
       "<table border=\"1\" class=\"dataframe\">\n",
       "  <thead>\n",
       "    <tr style=\"text-align: right;\">\n",
       "      <th></th>\n",
       "      <th>ID</th>\n",
       "      <th>Order Date</th>\n",
       "      <th>Class</th>\n",
       "      <th>Region</th>\n",
       "      <th>Sub-Category</th>\n",
       "      <th>Sales</th>\n",
       "    </tr>\n",
       "  </thead>\n",
       "  <tbody>\n",
       "    <tr>\n",
       "      <th>0</th>\n",
       "      <td>646</td>\n",
       "      <td>30/12/2018</td>\n",
       "      <td>Стандарт</td>\n",
       "      <td>Урал</td>\n",
       "      <td>Appliances</td>\n",
       "      <td>37229.080</td>\n",
       "    </tr>\n",
       "    <tr>\n",
       "      <th>1</th>\n",
       "      <td>907</td>\n",
       "      <td>30/12/2018</td>\n",
       "      <td>Стандарт</td>\n",
       "      <td>Владивосток</td>\n",
       "      <td>Bookcases</td>\n",
       "      <td>20994.610</td>\n",
       "    </tr>\n",
       "    <tr>\n",
       "      <th>2</th>\n",
       "      <td>908</td>\n",
       "      <td>30/12/2018</td>\n",
       "      <td>Стандарт</td>\n",
       "      <td>Владивосток</td>\n",
       "      <td>Phones</td>\n",
       "      <td>42133.860</td>\n",
       "    </tr>\n",
       "    <tr>\n",
       "      <th>3</th>\n",
       "      <td>909</td>\n",
       "      <td>30/12/2018</td>\n",
       "      <td>Стандарт</td>\n",
       "      <td>Владивосток</td>\n",
       "      <td>Binders</td>\n",
       "      <td>10612.000</td>\n",
       "    </tr>\n",
       "    <tr>\n",
       "      <th>4</th>\n",
       "      <td>1297</td>\n",
       "      <td>30/12/2018</td>\n",
       "      <td>Стандарт</td>\n",
       "      <td>Калиниград</td>\n",
       "      <td>Binders</td>\n",
       "      <td>28781.130</td>\n",
       "    </tr>\n",
       "    <tr>\n",
       "      <th>...</th>\n",
       "      <td>...</td>\n",
       "      <td>...</td>\n",
       "      <td>...</td>\n",
       "      <td>...</td>\n",
       "      <td>...</td>\n",
       "      <td>...</td>\n",
       "    </tr>\n",
       "    <tr>\n",
       "      <th>9795</th>\n",
       "      <td>1760</td>\n",
       "      <td>05/01/2015</td>\n",
       "      <td>Стандарт</td>\n",
       "      <td>Владивосток</td>\n",
       "      <td>Art</td>\n",
       "      <td>8639.472</td>\n",
       "    </tr>\n",
       "    <tr>\n",
       "      <th>9796</th>\n",
       "      <td>740</td>\n",
       "      <td>04/01/2015</td>\n",
       "      <td>Стандарт</td>\n",
       "      <td>Урал</td>\n",
       "      <td>Labels</td>\n",
       "      <td>15246.050</td>\n",
       "    </tr>\n",
       "    <tr>\n",
       "      <th>9797</th>\n",
       "      <td>741</td>\n",
       "      <td>04/01/2015</td>\n",
       "      <td>Стандарт</td>\n",
       "      <td>Урал</td>\n",
       "      <td>Storage</td>\n",
       "      <td>20415.810</td>\n",
       "    </tr>\n",
       "    <tr>\n",
       "      <th>9798</th>\n",
       "      <td>742</td>\n",
       "      <td>04/01/2015</td>\n",
       "      <td>Стандарт</td>\n",
       "      <td>Урал</td>\n",
       "      <td>Binders</td>\n",
       "      <td>4559.085</td>\n",
       "    </tr>\n",
       "    <tr>\n",
       "      <th>9799</th>\n",
       "      <td>7981</td>\n",
       "      <td>03/01/2015</td>\n",
       "      <td>Стандарт</td>\n",
       "      <td>Урал</td>\n",
       "      <td>Paper</td>\n",
       "      <td>11726.470</td>\n",
       "    </tr>\n",
       "  </tbody>\n",
       "</table>\n",
       "<p>9800 rows × 6 columns</p>\n",
       "</div>"
      ],
      "text/plain": [
       "        ID  Order Date     Class       Region Sub-Category      Sales\n",
       "0      646  30/12/2018  Стандарт         Урал   Appliances  37229.080\n",
       "1      907  30/12/2018  Стандарт  Владивосток    Bookcases  20994.610\n",
       "2      908  30/12/2018  Стандарт  Владивосток       Phones  42133.860\n",
       "3      909  30/12/2018  Стандарт  Владивосток      Binders  10612.000\n",
       "4     1297  30/12/2018  Стандарт   Калиниград      Binders  28781.130\n",
       "...    ...         ...       ...          ...          ...        ...\n",
       "9795  1760  05/01/2015  Стандарт  Владивосток          Art   8639.472\n",
       "9796   740  04/01/2015  Стандарт         Урал       Labels  15246.050\n",
       "9797   741  04/01/2015  Стандарт         Урал      Storage  20415.810\n",
       "9798   742  04/01/2015  Стандарт         Урал      Binders   4559.085\n",
       "9799  7981  03/01/2015  Стандарт         Урал        Paper  11726.470\n",
       "\n",
       "[9800 rows x 6 columns]"
      ]
     },
     "execution_count": 63,
     "metadata": {},
     "output_type": "execute_result"
    }
   ],
   "source": [
    "df['Sales'] = df['Sales'].str.replace(',', '.').astype(float)\n",
    "df"
   ]
  },
  {
   "cell_type": "markdown",
   "id": "7601fdf5-26ec-4553-97fa-ca10969aca70",
   "metadata": {},
   "source": [
    "**Преобразование колонки \"Order Date\" в формат даты**"
   ]
  },
  {
   "cell_type": "code",
   "execution_count": 64,
   "id": "ab88dce9-887f-49c8-a470-6f10c0aafff5",
   "metadata": {},
   "outputs": [
    {
     "data": {
      "text/html": [
       "<div>\n",
       "<style scoped>\n",
       "    .dataframe tbody tr th:only-of-type {\n",
       "        vertical-align: middle;\n",
       "    }\n",
       "\n",
       "    .dataframe tbody tr th {\n",
       "        vertical-align: top;\n",
       "    }\n",
       "\n",
       "    .dataframe thead th {\n",
       "        text-align: right;\n",
       "    }\n",
       "</style>\n",
       "<table border=\"1\" class=\"dataframe\">\n",
       "  <thead>\n",
       "    <tr style=\"text-align: right;\">\n",
       "      <th></th>\n",
       "      <th>ID</th>\n",
       "      <th>Order Date</th>\n",
       "      <th>Class</th>\n",
       "      <th>Region</th>\n",
       "      <th>Sub-Category</th>\n",
       "      <th>Sales</th>\n",
       "    </tr>\n",
       "  </thead>\n",
       "  <tbody>\n",
       "    <tr>\n",
       "      <th>0</th>\n",
       "      <td>646</td>\n",
       "      <td>2018-12-30</td>\n",
       "      <td>Стандарт</td>\n",
       "      <td>Урал</td>\n",
       "      <td>Appliances</td>\n",
       "      <td>37229.080</td>\n",
       "    </tr>\n",
       "    <tr>\n",
       "      <th>1</th>\n",
       "      <td>907</td>\n",
       "      <td>2018-12-30</td>\n",
       "      <td>Стандарт</td>\n",
       "      <td>Владивосток</td>\n",
       "      <td>Bookcases</td>\n",
       "      <td>20994.610</td>\n",
       "    </tr>\n",
       "    <tr>\n",
       "      <th>2</th>\n",
       "      <td>908</td>\n",
       "      <td>2018-12-30</td>\n",
       "      <td>Стандарт</td>\n",
       "      <td>Владивосток</td>\n",
       "      <td>Phones</td>\n",
       "      <td>42133.860</td>\n",
       "    </tr>\n",
       "    <tr>\n",
       "      <th>3</th>\n",
       "      <td>909</td>\n",
       "      <td>2018-12-30</td>\n",
       "      <td>Стандарт</td>\n",
       "      <td>Владивосток</td>\n",
       "      <td>Binders</td>\n",
       "      <td>10612.000</td>\n",
       "    </tr>\n",
       "    <tr>\n",
       "      <th>4</th>\n",
       "      <td>1297</td>\n",
       "      <td>2018-12-30</td>\n",
       "      <td>Стандарт</td>\n",
       "      <td>Калиниград</td>\n",
       "      <td>Binders</td>\n",
       "      <td>28781.130</td>\n",
       "    </tr>\n",
       "    <tr>\n",
       "      <th>...</th>\n",
       "      <td>...</td>\n",
       "      <td>...</td>\n",
       "      <td>...</td>\n",
       "      <td>...</td>\n",
       "      <td>...</td>\n",
       "      <td>...</td>\n",
       "    </tr>\n",
       "    <tr>\n",
       "      <th>9795</th>\n",
       "      <td>1760</td>\n",
       "      <td>2015-01-05</td>\n",
       "      <td>Стандарт</td>\n",
       "      <td>Владивосток</td>\n",
       "      <td>Art</td>\n",
       "      <td>8639.472</td>\n",
       "    </tr>\n",
       "    <tr>\n",
       "      <th>9796</th>\n",
       "      <td>740</td>\n",
       "      <td>2015-01-04</td>\n",
       "      <td>Стандарт</td>\n",
       "      <td>Урал</td>\n",
       "      <td>Labels</td>\n",
       "      <td>15246.050</td>\n",
       "    </tr>\n",
       "    <tr>\n",
       "      <th>9797</th>\n",
       "      <td>741</td>\n",
       "      <td>2015-01-04</td>\n",
       "      <td>Стандарт</td>\n",
       "      <td>Урал</td>\n",
       "      <td>Storage</td>\n",
       "      <td>20415.810</td>\n",
       "    </tr>\n",
       "    <tr>\n",
       "      <th>9798</th>\n",
       "      <td>742</td>\n",
       "      <td>2015-01-04</td>\n",
       "      <td>Стандарт</td>\n",
       "      <td>Урал</td>\n",
       "      <td>Binders</td>\n",
       "      <td>4559.085</td>\n",
       "    </tr>\n",
       "    <tr>\n",
       "      <th>9799</th>\n",
       "      <td>7981</td>\n",
       "      <td>2015-01-03</td>\n",
       "      <td>Стандарт</td>\n",
       "      <td>Урал</td>\n",
       "      <td>Paper</td>\n",
       "      <td>11726.470</td>\n",
       "    </tr>\n",
       "  </tbody>\n",
       "</table>\n",
       "<p>9800 rows × 6 columns</p>\n",
       "</div>"
      ],
      "text/plain": [
       "        ID Order Date     Class       Region Sub-Category      Sales\n",
       "0      646 2018-12-30  Стандарт         Урал   Appliances  37229.080\n",
       "1      907 2018-12-30  Стандарт  Владивосток    Bookcases  20994.610\n",
       "2      908 2018-12-30  Стандарт  Владивосток       Phones  42133.860\n",
       "3      909 2018-12-30  Стандарт  Владивосток      Binders  10612.000\n",
       "4     1297 2018-12-30  Стандарт   Калиниград      Binders  28781.130\n",
       "...    ...        ...       ...          ...          ...        ...\n",
       "9795  1760 2015-01-05  Стандарт  Владивосток          Art   8639.472\n",
       "9796   740 2015-01-04  Стандарт         Урал       Labels  15246.050\n",
       "9797   741 2015-01-04  Стандарт         Урал      Storage  20415.810\n",
       "9798   742 2015-01-04  Стандарт         Урал      Binders   4559.085\n",
       "9799  7981 2015-01-03  Стандарт         Урал        Paper  11726.470\n",
       "\n",
       "[9800 rows x 6 columns]"
      ]
     },
     "execution_count": 64,
     "metadata": {},
     "output_type": "execute_result"
    }
   ],
   "source": [
    "df['Order Date'] = pd.to_datetime(df['Order Date'], format='%d/%m/%Y')\n",
    "df"
   ]
  },
  {
   "cell_type": "markdown",
   "id": "ed63dac5-9295-4a9c-bb5c-f7d99cb15135",
   "metadata": {},
   "source": [
    "**Определяем границы для групп**"
   ]
  },
  {
   "cell_type": "code",
   "execution_count": 66,
   "id": "810ce2e2-49d0-4394-992c-e62b0bb2461d",
   "metadata": {},
   "outputs": [],
   "source": [
    "bins = [0, 10000, 30000, float('inf')]\n",
    "labels = ['Маленькие', 'Средние', 'Высокие']"
   ]
  },
  {
   "cell_type": "markdown",
   "id": "cfc95977-b4b1-4b7e-a58b-0a2f69f11021",
   "metadata": {},
   "source": [
    "**Создаем новую колонку \"Sale_group\" с помощью функции pd.cut()**"
   ]
  },
  {
   "cell_type": "code",
   "execution_count": 67,
   "id": "8b070925-ffa5-4909-9344-d4d73a2b708b",
   "metadata": {},
   "outputs": [
    {
     "data": {
      "text/html": [
       "<div>\n",
       "<style scoped>\n",
       "    .dataframe tbody tr th:only-of-type {\n",
       "        vertical-align: middle;\n",
       "    }\n",
       "\n",
       "    .dataframe tbody tr th {\n",
       "        vertical-align: top;\n",
       "    }\n",
       "\n",
       "    .dataframe thead th {\n",
       "        text-align: right;\n",
       "    }\n",
       "</style>\n",
       "<table border=\"1\" class=\"dataframe\">\n",
       "  <thead>\n",
       "    <tr style=\"text-align: right;\">\n",
       "      <th></th>\n",
       "      <th>ID</th>\n",
       "      <th>Order Date</th>\n",
       "      <th>Class</th>\n",
       "      <th>Region</th>\n",
       "      <th>Sub-Category</th>\n",
       "      <th>Sales</th>\n",
       "      <th>Sale_group</th>\n",
       "    </tr>\n",
       "  </thead>\n",
       "  <tbody>\n",
       "    <tr>\n",
       "      <th>0</th>\n",
       "      <td>646</td>\n",
       "      <td>2018-12-30</td>\n",
       "      <td>Стандарт</td>\n",
       "      <td>Урал</td>\n",
       "      <td>Appliances</td>\n",
       "      <td>37229.080</td>\n",
       "      <td>Высокие</td>\n",
       "    </tr>\n",
       "    <tr>\n",
       "      <th>1</th>\n",
       "      <td>907</td>\n",
       "      <td>2018-12-30</td>\n",
       "      <td>Стандарт</td>\n",
       "      <td>Владивосток</td>\n",
       "      <td>Bookcases</td>\n",
       "      <td>20994.610</td>\n",
       "      <td>Средние</td>\n",
       "    </tr>\n",
       "    <tr>\n",
       "      <th>2</th>\n",
       "      <td>908</td>\n",
       "      <td>2018-12-30</td>\n",
       "      <td>Стандарт</td>\n",
       "      <td>Владивосток</td>\n",
       "      <td>Phones</td>\n",
       "      <td>42133.860</td>\n",
       "      <td>Высокие</td>\n",
       "    </tr>\n",
       "    <tr>\n",
       "      <th>3</th>\n",
       "      <td>909</td>\n",
       "      <td>2018-12-30</td>\n",
       "      <td>Стандарт</td>\n",
       "      <td>Владивосток</td>\n",
       "      <td>Binders</td>\n",
       "      <td>10612.000</td>\n",
       "      <td>Средние</td>\n",
       "    </tr>\n",
       "    <tr>\n",
       "      <th>4</th>\n",
       "      <td>1297</td>\n",
       "      <td>2018-12-30</td>\n",
       "      <td>Стандарт</td>\n",
       "      <td>Калиниград</td>\n",
       "      <td>Binders</td>\n",
       "      <td>28781.130</td>\n",
       "      <td>Средние</td>\n",
       "    </tr>\n",
       "    <tr>\n",
       "      <th>...</th>\n",
       "      <td>...</td>\n",
       "      <td>...</td>\n",
       "      <td>...</td>\n",
       "      <td>...</td>\n",
       "      <td>...</td>\n",
       "      <td>...</td>\n",
       "      <td>...</td>\n",
       "    </tr>\n",
       "    <tr>\n",
       "      <th>9795</th>\n",
       "      <td>1760</td>\n",
       "      <td>2015-01-05</td>\n",
       "      <td>Стандарт</td>\n",
       "      <td>Владивосток</td>\n",
       "      <td>Art</td>\n",
       "      <td>8639.472</td>\n",
       "      <td>Маленькие</td>\n",
       "    </tr>\n",
       "    <tr>\n",
       "      <th>9796</th>\n",
       "      <td>740</td>\n",
       "      <td>2015-01-04</td>\n",
       "      <td>Стандарт</td>\n",
       "      <td>Урал</td>\n",
       "      <td>Labels</td>\n",
       "      <td>15246.050</td>\n",
       "      <td>Средние</td>\n",
       "    </tr>\n",
       "    <tr>\n",
       "      <th>9797</th>\n",
       "      <td>741</td>\n",
       "      <td>2015-01-04</td>\n",
       "      <td>Стандарт</td>\n",
       "      <td>Урал</td>\n",
       "      <td>Storage</td>\n",
       "      <td>20415.810</td>\n",
       "      <td>Средние</td>\n",
       "    </tr>\n",
       "    <tr>\n",
       "      <th>9798</th>\n",
       "      <td>742</td>\n",
       "      <td>2015-01-04</td>\n",
       "      <td>Стандарт</td>\n",
       "      <td>Урал</td>\n",
       "      <td>Binders</td>\n",
       "      <td>4559.085</td>\n",
       "      <td>Маленькие</td>\n",
       "    </tr>\n",
       "    <tr>\n",
       "      <th>9799</th>\n",
       "      <td>7981</td>\n",
       "      <td>2015-01-03</td>\n",
       "      <td>Стандарт</td>\n",
       "      <td>Урал</td>\n",
       "      <td>Paper</td>\n",
       "      <td>11726.470</td>\n",
       "      <td>Средние</td>\n",
       "    </tr>\n",
       "  </tbody>\n",
       "</table>\n",
       "<p>9800 rows × 7 columns</p>\n",
       "</div>"
      ],
      "text/plain": [
       "        ID Order Date     Class       Region Sub-Category      Sales  \\\n",
       "0      646 2018-12-30  Стандарт         Урал   Appliances  37229.080   \n",
       "1      907 2018-12-30  Стандарт  Владивосток    Bookcases  20994.610   \n",
       "2      908 2018-12-30  Стандарт  Владивосток       Phones  42133.860   \n",
       "3      909 2018-12-30  Стандарт  Владивосток      Binders  10612.000   \n",
       "4     1297 2018-12-30  Стандарт   Калиниград      Binders  28781.130   \n",
       "...    ...        ...       ...          ...          ...        ...   \n",
       "9795  1760 2015-01-05  Стандарт  Владивосток          Art   8639.472   \n",
       "9796   740 2015-01-04  Стандарт         Урал       Labels  15246.050   \n",
       "9797   741 2015-01-04  Стандарт         Урал      Storage  20415.810   \n",
       "9798   742 2015-01-04  Стандарт         Урал      Binders   4559.085   \n",
       "9799  7981 2015-01-03  Стандарт         Урал        Paper  11726.470   \n",
       "\n",
       "     Sale_group  \n",
       "0       Высокие  \n",
       "1       Средние  \n",
       "2       Высокие  \n",
       "3       Средние  \n",
       "4       Средние  \n",
       "...         ...  \n",
       "9795  Маленькие  \n",
       "9796    Средние  \n",
       "9797    Средние  \n",
       "9798  Маленькие  \n",
       "9799    Средние  \n",
       "\n",
       "[9800 rows x 7 columns]"
      ]
     },
     "execution_count": 67,
     "metadata": {},
     "output_type": "execute_result"
    }
   ],
   "source": [
    "df['Sale_group'] = pd.cut(df['Sales'], bins=bins, labels=labels, include_lowest=True)\n",
    "df"
   ]
  },
  {
   "cell_type": "markdown",
   "id": "7a86d002-fd9a-44b4-9860-9ad057ed6d74",
   "metadata": {},
   "source": [
    "**Для каждой группы в каждом регионе вычисляем общую сумму продаж, среднюю сумму продаж и количество сделок.**"
   ]
  },
  {
   "cell_type": "code",
   "execution_count": 71,
   "id": "fb3d46ad-9304-4803-bd05-5bbca033eba8",
   "metadata": {},
   "outputs": [
    {
     "data": {
      "text/html": [
       "<div>\n",
       "<style scoped>\n",
       "    .dataframe tbody tr th:only-of-type {\n",
       "        vertical-align: middle;\n",
       "    }\n",
       "\n",
       "    .dataframe tbody tr th {\n",
       "        vertical-align: top;\n",
       "    }\n",
       "\n",
       "    .dataframe thead th {\n",
       "        text-align: right;\n",
       "    }\n",
       "</style>\n",
       "<table border=\"1\" class=\"dataframe\">\n",
       "  <thead>\n",
       "    <tr style=\"text-align: right;\">\n",
       "      <th></th>\n",
       "      <th>Region</th>\n",
       "      <th>Sale_group</th>\n",
       "      <th>Total Sales</th>\n",
       "      <th>Average Sales</th>\n",
       "      <th>Number of Transactions</th>\n",
       "    </tr>\n",
       "  </thead>\n",
       "  <tbody>\n",
       "    <tr>\n",
       "      <th>0</th>\n",
       "      <td>Владивосток</td>\n",
       "      <td>Маленькие</td>\n",
       "      <td>3 106 636.10</td>\n",
       "      <td>5393.465460</td>\n",
       "      <td>576</td>\n",
       "    </tr>\n",
       "    <tr>\n",
       "      <th>1</th>\n",
       "      <td>Владивосток</td>\n",
       "      <td>Средние</td>\n",
       "      <td>24 793 441.66</td>\n",
       "      <td>19914.410972</td>\n",
       "      <td>1245</td>\n",
       "    </tr>\n",
       "    <tr>\n",
       "      <th>2</th>\n",
       "      <td>Владивосток</td>\n",
       "      <td>Высокие</td>\n",
       "      <td>36 052 609.12</td>\n",
       "      <td>37398.972116</td>\n",
       "      <td>964</td>\n",
       "    </tr>\n",
       "    <tr>\n",
       "      <th>3</th>\n",
       "      <td>Калиниград</td>\n",
       "      <td>Маленькие</td>\n",
       "      <td>3 399 869.56</td>\n",
       "      <td>5546.279874</td>\n",
       "      <td>613</td>\n",
       "    </tr>\n",
       "    <tr>\n",
       "      <th>4</th>\n",
       "      <td>Калиниград</td>\n",
       "      <td>Средние</td>\n",
       "      <td>30 415 734.16</td>\n",
       "      <td>20129.539484</td>\n",
       "      <td>1511</td>\n",
       "    </tr>\n",
       "    <tr>\n",
       "      <th>5</th>\n",
       "      <td>Калиниград</td>\n",
       "      <td>Высокие</td>\n",
       "      <td>38 114 696.00</td>\n",
       "      <td>37514.464567</td>\n",
       "      <td>1016</td>\n",
       "    </tr>\n",
       "    <tr>\n",
       "      <th>6</th>\n",
       "      <td>Москва</td>\n",
       "      <td>Маленькие</td>\n",
       "      <td>1 798 488.99</td>\n",
       "      <td>5516.837405</td>\n",
       "      <td>326</td>\n",
       "    </tr>\n",
       "    <tr>\n",
       "      <th>7</th>\n",
       "      <td>Москва</td>\n",
       "      <td>Средние</td>\n",
       "      <td>14 623 618.17</td>\n",
       "      <td>20170.507821</td>\n",
       "      <td>725</td>\n",
       "    </tr>\n",
       "    <tr>\n",
       "      <th>8</th>\n",
       "      <td>Москва</td>\n",
       "      <td>Высокие</td>\n",
       "      <td>20 469 544.35</td>\n",
       "      <td>37421.470475</td>\n",
       "      <td>547</td>\n",
       "    </tr>\n",
       "    <tr>\n",
       "      <th>9</th>\n",
       "      <td>Урал</td>\n",
       "      <td>Маленькие</td>\n",
       "      <td>2 415 068.79</td>\n",
       "      <td>5366.819524</td>\n",
       "      <td>450</td>\n",
       "    </tr>\n",
       "    <tr>\n",
       "      <th>10</th>\n",
       "      <td>Урал</td>\n",
       "      <td>Средние</td>\n",
       "      <td>21 004 820.99</td>\n",
       "      <td>19759.944487</td>\n",
       "      <td>1063</td>\n",
       "    </tr>\n",
       "    <tr>\n",
       "      <th>11</th>\n",
       "      <td>Урал</td>\n",
       "      <td>Высокие</td>\n",
       "      <td>28 438 697.92</td>\n",
       "      <td>37223.426597</td>\n",
       "      <td>764</td>\n",
       "    </tr>\n",
       "  </tbody>\n",
       "</table>\n",
       "</div>"
      ],
      "text/plain": [
       "         Region Sale_group    Total Sales  Average Sales  \\\n",
       "0   Владивосток  Маленькие   3 106 636.10    5393.465460   \n",
       "1   Владивосток    Средние  24 793 441.66   19914.410972   \n",
       "2   Владивосток    Высокие  36 052 609.12   37398.972116   \n",
       "3    Калиниград  Маленькие   3 399 869.56    5546.279874   \n",
       "4    Калиниград    Средние  30 415 734.16   20129.539484   \n",
       "5    Калиниград    Высокие  38 114 696.00   37514.464567   \n",
       "6        Москва  Маленькие   1 798 488.99    5516.837405   \n",
       "7        Москва    Средние  14 623 618.17   20170.507821   \n",
       "8        Москва    Высокие  20 469 544.35   37421.470475   \n",
       "9          Урал  Маленькие   2 415 068.79    5366.819524   \n",
       "10         Урал    Средние  21 004 820.99   19759.944487   \n",
       "11         Урал    Высокие  28 438 697.92   37223.426597   \n",
       "\n",
       "    Number of Transactions  \n",
       "0                      576  \n",
       "1                     1245  \n",
       "2                      964  \n",
       "3                      613  \n",
       "4                     1511  \n",
       "5                     1016  \n",
       "6                      326  \n",
       "7                      725  \n",
       "8                      547  \n",
       "9                      450  \n",
       "10                    1063  \n",
       "11                     764  "
      ]
     },
     "execution_count": 71,
     "metadata": {},
     "output_type": "execute_result"
    }
   ],
   "source": [
    "df_aggregated = df.groupby(['Region', 'Sale_group'])['Sales'].agg(['sum', 'mean', 'count']).reset_index()\n",
    "df_aggregated.columns = ['Region', 'Sale_group', 'Total Sales', 'Average Sales', 'Number of Transactions']\n",
    "df_aggregated['Total Sales'] = df_aggregated['Total Sales'].apply(lambda x: f'{x:,.2f}'.replace(',', ' '))\n",
    "df_aggregated"
   ]
  },
  {
   "cell_type": "markdown",
   "id": "99c21675-1d16-4b55-96b4-5253298ba9fa",
   "metadata": {},
   "source": [
    "**Создание столбчатой диаграммы для сравнения сумм продаж по группам в каждом регионе**"
   ]
  },
  {
   "cell_type": "code",
   "execution_count": 78,
   "id": "80be8ec6-4adb-46d2-9498-a5b20aed249a",
   "metadata": {},
   "outputs": [],
   "source": [
    "# Преобразование столбца 'Total Sales' обратно к числовому типу\n",
    "df_aggregated['Total Sales'] = df_aggregated['Total Sales'].str.replace(' ', '').astype(float)"
   ]
  },
  {
   "cell_type": "code",
   "execution_count": 79,
   "id": "a92d0c61-375f-43d9-b49e-485990d536a8",
   "metadata": {},
   "outputs": [
    {
     "data": {
      "image/png": "[encoded data removed]",
      "text/plain": [
       "<Figure size 1200x600 with 1 Axes>"
      ]
     },
     "metadata": {},
     "output_type": "display_data"
    }
   ],
   "source": [
    "fig, ax = plt.subplots(figsize=(12, 6))\n",
    "df_aggregated.groupby(['Region', 'Sale_group'])['Total Sales'].sum().unstack().plot(kind='bar', ax=ax)\n",
    "ax.set_ylabel('Сумма продаж')\n",
    "ax.set_xlabel('Регион')\n",
    "ax.set_title('Сумма продаж по группам в каждом регионе')\n",
    "plt.xticks(rotation=45)\n",
    "plt.show()"
   ]
  },
  {
   "cell_type": "markdown",
   "id": "622d85ca-0e36-49df-9011-3bcd21032293",
   "metadata": {},
   "source": [
    "**Создание boxplot для отображения распределения продаж в разных регионах**"
   ]
  },
  {
   "cell_type": "code",
   "execution_count": 80,
   "id": "f720552b-04d7-4e9f-baaf-a1356670dd23",
   "metadata": {},
   "outputs": [
    {
     "data": {
      "image/png": "[encoded data removed]",
      "text/plain": [
       "<Figure size 1200x600 with 1 Axes>"
      ]
     },
     "metadata": {},
     "output_type": "display_data"
    }
   ],
   "source": [
    "fig, ax = plt.subplots(figsize=(12, 6))\n",
    "df_aggregated.boxplot(column='Total Sales', by='Region', ax=ax)\n",
    "ax.set_ylabel('Сумма продаж')\n",
    "ax.set_xlabel('Регион')\n",
    "ax.set_title('Распределение продаж в разных регионах')\n",
    "plt.show()"
   ]
  },
  {
   "cell_type": "markdown",
   "id": "a54050b4-cb7c-40f1-9567-74432624e7ab",
   "metadata": {},
   "source": [
    "**Создание гистограммы для сравнения количества продаж по группам и регионам**"
   ]
  },
  {
   "cell_type": "code",
   "execution_count": 81,
   "id": "3eac0bbb-013b-4134-9639-da0f340beace",
   "metadata": {},
   "outputs": [
    {
     "data": {
      "image/png": "[encoded data removed]",
      "text/plain": [
       "<Figure size 1200x600 with 1 Axes>"
      ]
     },
     "metadata": {},
     "output_type": "display_data"
    }
   ],
   "source": [
    "fig, ax = plt.subplots(figsize=(12, 6))\n",
    "df_aggregated.groupby(['Region', 'Sale_group'])['Number of Transactions'].sum().unstack().plot(kind='bar', ax=ax)\n",
    "ax.set_ylabel('Количество продаж')\n",
    "ax.set_xlabel('Регион')\n",
    "ax.set_title('Количество продаж по группам и регионам')\n",
    "plt.xticks(rotation=45)\n",
    "plt.show()"
   ]
  },
  {
   "cell_type": "markdown",
   "id": "5fb4baf4-5850-491d-b0a3-e130ac335b09",
   "metadata": {},
   "source": [
    "### Анализ продаж по регионам и группам\n",
    "\n",
    "Анализ таблицы с агрегированными данными о продажах по регионам и группам выявляет следующие основные тенденции:\n",
    "\n",
    "* **Калиниград** демонстрирует наибольшую сумму продаж среди всех регионов, за ним следует **Владивосток**, затем **Урал** и **Москва**.\n",
    "\n",
    "* **Группа \"Высокие\"** является наиболее прибыльной во всех регионах, демонстрируя наибольшую сумму и среднюю стоимость продаж.\n",
    "\n",
    "* **Группа \"Средние\"** показывает наибольшее количество сделок во всех регионах."
   ]
  }
 ],
 "metadata": {
  "kernelspec": {
   "display_name": "Python 3 (ipykernel)",
   "language": "python",
   "name": "python3"
  },
  "language_info": {
   "codemirror_mode": {
    "name": "ipython",
    "version": 3
   },
   "file_extension": ".py",
   "mimetype": "text/x-python",
   "name": "python",
   "nbconvert_exporter": "python",
   "pygments_lexer": "ipython3",
   "version": "3.11.3"
  }
 },
 "nbformat": 4,
 "nbformat_minor": 5
}
